{
 "cells": [
  {
   "cell_type": "code",
   "execution_count": 1,
   "id": "ad760c40-9825-4b36-80e3-3a2168f71012",
   "metadata": {},
   "outputs": [
    {
     "name": "stdout",
     "output_type": "stream",
     "text": [
      "    Customer ID       Customer Name    Segment  Order ID\n",
      "0      AA-10315          Alex Avila   Consumer        11\n",
      "1      AA-10375        Allen Armold   Consumer        15\n",
      "2      AA-10480        Andrew Allen   Consumer        12\n",
      "3      AA-10645       Anna Andreadi   Consumer        18\n",
      "4      AB-10015       Aaron Bergman   Consumer         6\n",
      "..          ...                 ...        ...       ...\n",
      "788    XP-21865        Xylona Preis   Consumer        28\n",
      "789    YC-21895      Yoseph Carroll  Corporate         8\n",
      "790    YS-21880       Yana Sorensen  Corporate        12\n",
      "791    ZC-21910    Zuschuss Carroll   Consumer        31\n",
      "792    ZD-21925  Zuschuss Donatelli   Consumer         9\n",
      "\n",
      "[793 rows x 4 columns]\n"
     ]
    }
   ],
   "source": [
    "import numpy as np\n",
    "import matplotlib.pyplot as plt\n",
    "import pandas as pd\n",
    "df = pd.read_csv(r\"C:\\Users\\sunin\\Downloads\\archive (9)\\train.csv\")\n",
    "#ques- to find the customer ID and name who places the most orders? to check customer loyalty\n",
    "\n",
    "customer_order_frequency = df.groupby(['Customer ID', 'Customer Name', 'Segment']) ['Order ID'].count().reset_index() \n",
    "print(customer_order_frequency)\n"
   ]
  },
  {
   "cell_type": "code",
   "execution_count": 2,
   "id": "88461e35-d8bf-4a25-92c1-08941f461f49",
   "metadata": {},
   "outputs": [
    {
     "name": "stdout",
     "output_type": "stream",
     "text": [
      "    Customer ID       Customer Name    Segment  Total Orders\n",
      "0      AA-10315          Alex Avila   Consumer            11\n",
      "1      AA-10375        Allen Armold   Consumer            15\n",
      "2      AA-10480        Andrew Allen   Consumer            12\n",
      "3      AA-10645       Anna Andreadi   Consumer            18\n",
      "4      AB-10015       Aaron Bergman   Consumer             6\n",
      "..          ...                 ...        ...           ...\n",
      "788    XP-21865        Xylona Preis   Consumer            28\n",
      "789    YC-21895      Yoseph Carroll  Corporate             8\n",
      "790    YS-21880       Yana Sorensen  Corporate            12\n",
      "791    ZC-21910    Zuschuss Carroll   Consumer            31\n",
      "792    ZD-21925  Zuschuss Donatelli   Consumer             9\n",
      "\n",
      "[793 rows x 4 columns]\n"
     ]
    }
   ],
   "source": [
    "#rename column\n",
    "customer_order_frequency = customer_order_frequency.rename(columns={'Order ID':'Total Orders'})\n",
    "print(customer_order_frequency)"
   ]
  },
  {
   "cell_type": "code",
   "execution_count": 4,
   "id": "e25ec269-225b-452a-aceb-55ddaf56977a",
   "metadata": {},
   "outputs": [
    {
     "name": "stdout",
     "output_type": "stream",
     "text": [
      "    Customer ID       Customer Name    Segment  Total Orders\n",
      "0      AA-10315          Alex Avila   Consumer            11\n",
      "1      AA-10375        Allen Armold   Consumer            15\n",
      "2      AA-10480        Andrew Allen   Consumer            12\n",
      "3      AA-10645       Anna Andreadi   Consumer            18\n",
      "4      AB-10015       Aaron Bergman   Consumer             6\n",
      "..          ...                 ...        ...           ...\n",
      "788    XP-21865        Xylona Preis   Consumer            28\n",
      "789    YC-21895      Yoseph Carroll  Corporate             8\n",
      "790    YS-21880       Yana Sorensen  Corporate            12\n",
      "791    ZC-21910    Zuschuss Carroll   Consumer            31\n",
      "792    ZD-21925  Zuschuss Donatelli   Consumer             9\n",
      "\n",
      "[787 rows x 4 columns]\n"
     ]
    }
   ],
   "source": [
    "#to calculate repeat customers\n",
    "repeat_customers = customer_order_frequency[customer_order_frequency['Total Orders']>1]\n",
    "print(repeat_customers)"
   ]
  },
  {
   "cell_type": "code",
   "execution_count": 7,
   "id": "41870483-0978-4e3a-96e6-346097876d8c",
   "metadata": {},
   "outputs": [
    {
     "name": "stdout",
     "output_type": "stream",
     "text": [
      "    Customer ID      Customer Name      Segment  Total Orders\n",
      "787    WB-21850      William Brown     Consumer            35\n",
      "606    PP-18955         Paul Prost  Home Office            34\n",
      "482    MA-17560       Matt Abelman  Home Office            34\n",
      "387    JL-15835           John Lee     Consumer            33\n",
      "720    SV-20365        Seth Vernon     Consumer            32\n",
      "..          ...                ...          ...           ...\n",
      "650    RM-19750      Roland Murray     Consumer             2\n",
      "593    PH-18790  Patricia Hirasaki  Home Office             2\n",
      "49     AR-10570     Anemone Ratner     Consumer             2\n",
      "552    NB-18580     Nicole Brennan    Corporate             2\n",
      "266    EL-13735          Ed Ludwig  Home Office             2\n",
      "\n",
      "[787 rows x 4 columns]\n"
     ]
    }
   ],
   "source": [
    "#sort repeat customer in ascending order\n",
    "sorted_repeat_customers = repeat_customers.sort_values(by ='Total Orders',ascending = False)\n",
    "print(sorted_repeat_customers)\n"
   ]
  },
  {
   "cell_type": "code",
   "execution_count": 11,
   "id": "d296afd1-c7c2-4a1f-ab94-89300e122c1d",
   "metadata": {},
   "outputs": [
    {
     "name": "stdout",
     "output_type": "stream",
     "text": [
      "  Customer ID        Customer Name      Segment  Total Orders\n",
      "0    WB-21850        William Brown     Consumer            35\n",
      "1    PP-18955           Paul Prost  Home Office            34\n",
      "2    MA-17560         Matt Abelman  Home Office            34\n",
      "3    JL-15835             John Lee     Consumer            33\n",
      "4    SV-20365          Seth Vernon     Consumer            32\n",
      "5    JD-15895     Jonathan Doherty    Corporate            32\n",
      "6    CK-12205  Chloris Kastensmidt     Consumer            32\n",
      "7    AP-10915       Arthur Prichep     Consumer            31\n",
      "8    EP-13915           Emily Phan     Consumer            31\n",
      "9    ZC-21910     Zuschuss Carroll     Consumer            31\n"
     ]
    }
   ],
   "source": [
    "print(sorted_repeat_customers.head(10).reset_index(drop = True))   #to print only first 10 values"
   ]
  },
  {
   "cell_type": "code",
   "execution_count": 19,
   "id": "65578657-8f16-47b2-a5d7-6cb222937970",
   "metadata": {},
   "outputs": [
    {
     "name": "stdout",
     "output_type": "stream",
     "text": [
      "          Customer Name Customer ID     Sales\n",
      "0         Aaron Bergman    AB-10015   886.156\n",
      "1         Aaron Hawkins    AH-10030  1744.700\n",
      "2        Aaron Smayling    AS-10045  3050.692\n",
      "3       Adam Bellavance    AB-10060  7755.620\n",
      "4             Adam Hart    AH-10075  3250.337\n",
      "..                  ...         ...       ...\n",
      "788        Xylona Preis    XP-21865  2374.658\n",
      "789       Yana Sorensen    YS-21880  6720.444\n",
      "790      Yoseph Carroll    YC-21895  5454.350\n",
      "791    Zuschuss Carroll    ZC-21910  8025.707\n",
      "792  Zuschuss Donatelli    ZD-21925  1493.944\n",
      "\n",
      "[793 rows x 3 columns]\n"
     ]
    }
   ],
   "source": [
    "#ques - Who is the best customer in terms of sales or ranking customers based on sales\n",
    "#ans -We shall take 3 columns, use groupby clause-customer name,customer ID and sales\n",
    "customer_sales =df.groupby(['Customer Name','Customer ID'])['Sales'].sum().reset_index()\n",
    "print(customer_sales)"
   ]
  },
  {
   "cell_type": "code",
   "execution_count": 20,
   "id": "77060850-b08c-46f3-ab34-cc1cf971ebee",
   "metadata": {},
   "outputs": [
    {
     "name": "stdout",
     "output_type": "stream",
     "text": [
      "       Customer Name Customer ID      Sales\n",
      "686      Sean Miller    SM-20320  25043.050\n",
      "730     Tamara Chand    TC-20980  19052.218\n",
      "622     Raymond Buch    RB-19360  15117.339\n",
      "757     Tom Ashbrook    TA-21385  14595.620\n",
      "6      Adrian Barton    AB-10105  14473.571\n",
      "..               ...         ...        ...\n",
      "545  Mitch Gastineau    MG-18205     16.739\n",
      "123     Carl Jackson    CJ-11875     16.520\n",
      "721       Sung Chung    SC-20845     14.112\n",
      "455     Lela Donovan    LD-16855      5.304\n",
      "737    Thais Sissman    TS-21085      4.833\n",
      "\n",
      "[793 rows x 3 columns]\n"
     ]
    }
   ],
   "source": [
    "#to sort in descending order\n",
    "top_spenders = customer_sales.sort_values(by = 'Sales',ascending = False)\n",
    "print(top_spenders)\n",
    "\n"
   ]
  },
  {
   "cell_type": "code",
   "execution_count": 21,
   "id": "0da48d87-6754-4689-b061-751091228e6d",
   "metadata": {},
   "outputs": [
    {
     "name": "stdout",
     "output_type": "stream",
     "text": [
      "        Customer Name Customer ID      Sales\n",
      "0         Sean Miller    SM-20320  25043.050\n",
      "1        Tamara Chand    TC-20980  19052.218\n",
      "2        Raymond Buch    RB-19360  15117.339\n",
      "3        Tom Ashbrook    TA-21385  14595.620\n",
      "4       Adrian Barton    AB-10105  14473.571\n",
      "5        Ken Lonsdale    KL-16645  14175.229\n",
      "6        Sanjit Chand    SC-20095  14142.334\n",
      "7        Hunter Lopez    HL-15040  12873.298\n",
      "8        Sanjit Engle    SE-20110  12209.438\n",
      "9  Christopher Conant    CC-12370  12129.072\n"
     ]
    }
   ],
   "source": [
    "#to print only first 10 values and give me the new index starting from 0\n",
    "print(top_spenders.head(10).reset_index(drop = True))"
   ]
  },
  {
   "cell_type": "code",
   "execution_count": 22,
   "id": "e68f5bd7-b464-4b84-8433-7a6ff990c331",
   "metadata": {},
   "outputs": [
    {
     "name": "stdout",
     "output_type": "stream",
     "text": [
      "['Second Class' 'Standard Class' 'First Class' 'Same Day']\n"
     ]
    }
   ],
   "source": [
    "#Analysis of Shipping Methods\n",
    "shipping_mode = df['Ship Mode'].unique()\n",
    "print(shipping_mode)"
   ]
  },
  {
   "cell_type": "code",
   "execution_count": 24,
   "id": "6c350727-f1b7-4ef8-ac3f-de0294239cf8",
   "metadata": {},
   "outputs": [
    {
     "name": "stdout",
     "output_type": "stream",
     "text": [
      "        Ship Mode  count\n",
      "0  Standard Class   5859\n",
      "1    Second Class   1902\n",
      "2     First Class   1501\n",
      "3        Same Day    538\n"
     ]
    }
   ],
   "source": [
    "#to calculate the frequency of shipping methods\n",
    "shipping_frequency = df['Ship Mode'].value_counts().reset_index()\n",
    "print(shipping_frequency)"
   ]
  },
  {
   "cell_type": "code",
   "execution_count": 25,
   "id": "24bbdcf2-4e0f-45c5-9def-f38cf416e766",
   "metadata": {},
   "outputs": [
    {
     "name": "stdout",
     "output_type": "stream",
     "text": [
      "  Mode of Shipment  Frequency\n",
      "0   Standard Class       5859\n",
      "1     Second Class       1902\n",
      "2      First Class       1501\n",
      "3         Same Day        538\n"
     ]
    }
   ],
   "source": [
    "shipping_frequency = shipping_frequency.rename(columns={'Ship Mode':'Mode of Shipment', 'count':'Frequency'})\n",
    "print(shipping_frequency)"
   ]
  },
  {
   "cell_type": "code",
   "execution_count": 29,
   "id": "06d3f5b6-9277-4aeb-b7d9-61c34136b448",
   "metadata": {},
   "outputs": [
    {
     "data": {
      "image/png": "[encoded data removed]",
      "text/plain": [
       "<Figure size 640x480 with 1 Axes>"
      ]
     },
     "metadata": {},
     "output_type": "display_data"
    }
   ],
   "source": [
    "plt.pie(shipping_frequency['Frequency'], labels = shipping_frequency['Mode of Shipment'],autopct = '%1.1f%%')\n",
    "plt.title(\"Distribution of Shipping Methods\")\n",
    "plt.show()"
   ]
  },
  {
   "cell_type": "code",
   "execution_count": 36,
   "id": "404a8650-bbeb-4829-932f-b1e81216d2f2",
   "metadata": {},
   "outputs": [
    {
     "name": "stdout",
     "output_type": "stream",
     "text": [
      "['Kentucky' 'California' 'Florida' 'North Carolina' 'Washington' 'Texas'\n",
      " 'Wisconsin' 'Utah' 'Nebraska' 'Pennsylvania' 'Illinois' 'Minnesota'\n",
      " 'Michigan' 'Delaware' 'Indiana' 'New York' 'Arizona' 'Virginia'\n",
      " 'Tennessee' 'Alabama' 'South Carolina' 'Oregon' 'Colorado' 'Iowa' 'Ohio'\n",
      " 'Missouri' 'Oklahoma' 'New Mexico' 'Louisiana' 'Connecticut' 'New Jersey'\n",
      " 'Massachusetts' 'Georgia' 'Nevada' 'Rhode Island' 'Mississippi'\n",
      " 'Arkansas' 'Montana' 'New Hampshire' 'Maryland' 'District of Columbia'\n",
      " 'Kansas' 'Vermont' 'Maine' 'South Dakota' 'Idaho' 'North Dakota'\n",
      " 'Wyoming' 'West Virginia']\n"
     ]
    },
    {
     "ename": "AttributeError",
     "evalue": "'Series' object has no attribute 'value_count'",
     "output_type": "error",
     "traceback": [
      "\u001b[1;31m---------------------------------------------------------------------------\u001b[0m",
      "\u001b[1;31mAttributeError\u001b[0m                            Traceback (most recent call last)",
      "\u001b[1;32m~\\AppData\\Local\\Temp\\ipykernel_30964\\809429379.py\u001b[0m in \u001b[0;36m?\u001b[1;34m()\u001b[0m\n\u001b[0;32m      1\u001b[0m \u001b[1;31m#Geographical Analysis\u001b[0m\u001b[1;33m\u001b[0m\u001b[1;33m\u001b[0m\u001b[0m\n\u001b[0;32m      2\u001b[0m \u001b[0mstate\u001b[0m \u001b[1;33m=\u001b[0m \u001b[0mdf\u001b[0m\u001b[1;33m[\u001b[0m\u001b[1;34m'State'\u001b[0m\u001b[1;33m]\u001b[0m\u001b[1;33m.\u001b[0m\u001b[0munique\u001b[0m\u001b[1;33m(\u001b[0m\u001b[1;33m)\u001b[0m\u001b[1;33m\u001b[0m\u001b[1;33m\u001b[0m\u001b[0m\n\u001b[0;32m      3\u001b[0m \u001b[0mprint\u001b[0m\u001b[1;33m(\u001b[0m\u001b[0mstate\u001b[0m\u001b[1;33m)\u001b[0m\u001b[1;33m\u001b[0m\u001b[1;33m\u001b[0m\u001b[0m\n\u001b[1;32m----> 4\u001b[1;33m \u001b[0mstate\u001b[0m \u001b[1;33m=\u001b[0m \u001b[0mdf\u001b[0m\u001b[1;33m[\u001b[0m\u001b[1;34m'State'\u001b[0m\u001b[1;33m]\u001b[0m\u001b[1;33m.\u001b[0m\u001b[0mvalue_count\u001b[0m\u001b[1;33m(\u001b[0m\u001b[1;33m)\u001b[0m\u001b[1;33m.\u001b[0m\u001b[0mreset_index\u001b[0m\u001b[1;33m(\u001b[0m\u001b[1;33m)\u001b[0m\u001b[1;33m\u001b[0m\u001b[1;33m\u001b[0m\u001b[0m\n\u001b[0m",
      "\u001b[1;32m~\\anaconda3\\Lib\\site-packages\\pandas\\core\\generic.py\u001b[0m in \u001b[0;36m?\u001b[1;34m(self, name)\u001b[0m\n\u001b[0;32m   6295\u001b[0m             \u001b[1;32mand\u001b[0m \u001b[0mname\u001b[0m \u001b[1;32mnot\u001b[0m \u001b[1;32min\u001b[0m \u001b[0mself\u001b[0m\u001b[1;33m.\u001b[0m\u001b[0m_accessors\u001b[0m\u001b[1;33m\u001b[0m\u001b[1;33m\u001b[0m\u001b[0m\n\u001b[0;32m   6296\u001b[0m             \u001b[1;32mand\u001b[0m \u001b[0mself\u001b[0m\u001b[1;33m.\u001b[0m\u001b[0m_info_axis\u001b[0m\u001b[1;33m.\u001b[0m\u001b[0m_can_hold_identifiers_and_holds_name\u001b[0m\u001b[1;33m(\u001b[0m\u001b[0mname\u001b[0m\u001b[1;33m)\u001b[0m\u001b[1;33m\u001b[0m\u001b[1;33m\u001b[0m\u001b[0m\n\u001b[0;32m   6297\u001b[0m         \u001b[1;33m)\u001b[0m\u001b[1;33m:\u001b[0m\u001b[1;33m\u001b[0m\u001b[1;33m\u001b[0m\u001b[0m\n\u001b[0;32m   6298\u001b[0m             \u001b[1;32mreturn\u001b[0m \u001b[0mself\u001b[0m\u001b[1;33m[\u001b[0m\u001b[0mname\u001b[0m\u001b[1;33m]\u001b[0m\u001b[1;33m\u001b[0m\u001b[1;33m\u001b[0m\u001b[0m\n\u001b[1;32m-> 6299\u001b[1;33m         \u001b[1;32mreturn\u001b[0m \u001b[0mobject\u001b[0m\u001b[1;33m.\u001b[0m\u001b[0m__getattribute__\u001b[0m\u001b[1;33m(\u001b[0m\u001b[0mself\u001b[0m\u001b[1;33m,\u001b[0m \u001b[0mname\u001b[0m\u001b[1;33m)\u001b[0m\u001b[1;33m\u001b[0m\u001b[1;33m\u001b[0m\u001b[0m\n\u001b[0m",
      "\u001b[1;31mAttributeError\u001b[0m: 'Series' object has no attribute 'value_count'"
     ]
    }
   ],
   "source": [
    "#Geographical Analysis\n",
    "state = df['State'].unique()\n",
    "print(state)\n"
   ]
  },
  {
   "cell_type": "code",
   "execution_count": 38,
   "id": "0ff57f07-ec07-4b3d-93fa-98ae2668c5cc",
   "metadata": {},
   "outputs": [
    {
     "name": "stdout",
     "output_type": "stream",
     "text": [
      "                   State  count\n",
      "0             California   1946\n",
      "1               New York   1097\n",
      "2                  Texas    973\n",
      "3           Pennsylvania    582\n",
      "4             Washington    504\n",
      "5               Illinois    483\n",
      "6                   Ohio    454\n",
      "7                Florida    373\n",
      "8               Michigan    253\n",
      "9         North Carolina    247\n",
      "10              Virginia    224\n",
      "11               Arizona    223\n",
      "12             Tennessee    183\n",
      "13              Colorado    179\n",
      "14               Georgia    177\n",
      "15              Kentucky    137\n",
      "16               Indiana    135\n",
      "17         Massachusetts    135\n",
      "18                Oregon    122\n",
      "19            New Jersey    122\n",
      "20              Maryland    105\n",
      "21             Wisconsin    105\n",
      "22              Delaware     93\n",
      "23             Minnesota     89\n",
      "24           Connecticut     82\n",
      "25              Missouri     66\n",
      "26              Oklahoma     66\n",
      "27               Alabama     61\n",
      "28              Arkansas     60\n",
      "29          Rhode Island     55\n",
      "30           Mississippi     53\n",
      "31                  Utah     53\n",
      "32        South Carolina     42\n",
      "33             Louisiana     41\n",
      "34                Nevada     39\n",
      "35              Nebraska     38\n",
      "36            New Mexico     37\n",
      "37         New Hampshire     27\n",
      "38                  Iowa     26\n",
      "39                Kansas     24\n",
      "40                 Idaho     21\n",
      "41               Montana     15\n",
      "42          South Dakota     12\n",
      "43               Vermont     11\n",
      "44  District of Columbia     10\n",
      "45                 Maine      8\n",
      "46          North Dakota      7\n",
      "47         West Virginia      4\n",
      "48               Wyoming      1\n"
     ]
    }
   ],
   "source": [
    "state = df['State'].value_counts().reset_index()\n",
    "print(state)"
   ]
  },
  {
   "cell_type": "code",
   "execution_count": 39,
   "id": "5a26a7f2-fc6d-4048-8750-84994a1b07e9",
   "metadata": {},
   "outputs": [
    {
     "name": "stdout",
     "output_type": "stream",
     "text": [
      "                   State  No. of customers\n",
      "0             California              1946\n",
      "1               New York              1097\n",
      "2                  Texas               973\n",
      "3           Pennsylvania               582\n",
      "4             Washington               504\n",
      "5               Illinois               483\n",
      "6                   Ohio               454\n",
      "7                Florida               373\n",
      "8               Michigan               253\n",
      "9         North Carolina               247\n",
      "10              Virginia               224\n",
      "11               Arizona               223\n",
      "12             Tennessee               183\n",
      "13              Colorado               179\n",
      "14               Georgia               177\n",
      "15              Kentucky               137\n",
      "16               Indiana               135\n",
      "17         Massachusetts               135\n",
      "18                Oregon               122\n",
      "19            New Jersey               122\n",
      "20              Maryland               105\n",
      "21             Wisconsin               105\n",
      "22              Delaware                93\n",
      "23             Minnesota                89\n",
      "24           Connecticut                82\n",
      "25              Missouri                66\n",
      "26              Oklahoma                66\n",
      "27               Alabama                61\n",
      "28              Arkansas                60\n",
      "29          Rhode Island                55\n",
      "30           Mississippi                53\n",
      "31                  Utah                53\n",
      "32        South Carolina                42\n",
      "33             Louisiana                41\n",
      "34                Nevada                39\n",
      "35              Nebraska                38\n",
      "36            New Mexico                37\n",
      "37         New Hampshire                27\n",
      "38                  Iowa                26\n",
      "39                Kansas                24\n",
      "40                 Idaho                21\n",
      "41               Montana                15\n",
      "42          South Dakota                12\n",
      "43               Vermont                11\n",
      "44  District of Columbia                10\n",
      "45                 Maine                 8\n",
      "46          North Dakota                 7\n",
      "47         West Virginia                 4\n",
      "48               Wyoming                 1\n"
     ]
    }
   ],
   "source": [
    "state = state.rename(columns = {'count':'No. of customers'})\n",
    "print(state)"
   ]
  },
  {
   "cell_type": "code",
   "execution_count": 41,
   "id": "af58398e-b6e6-47cc-b92f-22f52877624e",
   "metadata": {},
   "outputs": [
    {
     "name": "stdout",
     "output_type": "stream",
     "text": [
      "          State  No. of customers\n",
      "0    California              1946\n",
      "1      New York              1097\n",
      "2         Texas               973\n",
      "3  Pennsylvania               582\n",
      "4    Washington               504\n",
      "5      Illinois               483\n",
      "6          Ohio               454\n"
     ]
    }
   ],
   "source": [
    "#to cut down the list as it is too big\n",
    "print(state.head(7))"
   ]
  },
  {
   "cell_type": "code",
   "execution_count": 46,
   "id": "639a0237-8fe9-428d-aba6-a8f43b72a50b",
   "metadata": {},
   "outputs": [
    {
     "name": "stdout",
     "output_type": "stream",
     "text": [
      "              City  count\n",
      "0    New York City    891\n",
      "1      Los Angeles    728\n",
      "2     Philadelphia    532\n",
      "3    San Francisco    500\n",
      "4          Seattle    426\n",
      "..             ...    ...\n",
      "524      San Mateo      1\n",
      "525       Cheyenne      1\n",
      "526         Conway      1\n",
      "527      Melbourne      1\n",
      "528     Springdale      1\n",
      "\n",
      "[529 rows x 2 columns]\n"
     ]
    }
   ],
   "source": []
  },
  {
   "cell_type": "code",
   "execution_count": 48,
   "id": "59f949aa-d3e3-4859-a31d-c922d294e419",
   "metadata": {},
   "outputs": [
    {
     "name": "stdout",
     "output_type": "stream",
     "text": [
      "['Henderson' 'Los Angeles' 'Fort Lauderdale' 'Concord' 'Seattle'\n",
      " 'Fort Worth' 'Madison' 'West Jordan' 'San Francisco' 'Fremont'\n",
      " 'Philadelphia' 'Orem' 'Houston' 'Richardson' 'Naperville' 'Melbourne'\n",
      " 'Eagan' 'Westland' 'Dover' 'New Albany' 'New York City' 'Troy' 'Chicago'\n",
      " 'Gilbert' 'Springfield' 'Jackson' 'Memphis' 'Decatur' 'Durham' 'Columbia'\n",
      " 'Rochester' 'Minneapolis' 'Portland' 'Saint Paul' 'Aurora' 'Charlotte'\n",
      " 'Orland Park' 'Urbandale' 'Columbus' 'Bristol' 'Wilmington' 'Bloomington'\n",
      " 'Phoenix' 'Roseville' 'Independence' 'Pasadena' 'Newark' 'Franklin'\n",
      " 'Scottsdale' 'San Jose' 'Edmond' 'Carlsbad' 'San Antonio' 'Monroe'\n",
      " 'Fairfield' 'Grand Prairie' 'Redlands' 'Hamilton' 'Westfield' 'Akron'\n",
      " 'Denver' 'Dallas' 'Whittier' 'Saginaw' 'Medina' 'Dublin' 'Detroit'\n",
      " 'Tampa' 'Santa Clara' 'Lakeville' 'San Diego' 'Brentwood' 'Chapel Hill'\n",
      " 'Morristown' 'Cincinnati' 'Inglewood' 'Tamarac' 'Colorado Springs'\n",
      " 'Belleville' 'Taylor' 'Lakewood' 'Arlington' 'Arvada' 'Hackensack'\n",
      " 'Saint Petersburg' 'Long Beach' 'Hesperia' 'Murfreesboro' 'Layton'\n",
      " 'Austin' 'Lowell' 'Manchester' 'Harlingen' 'Tucson' 'Quincy'\n",
      " 'Pembroke Pines' 'Des Moines' 'Peoria' 'Las Vegas' 'Warwick' 'Miami'\n",
      " 'Huntington Beach' 'Richmond' 'Louisville' 'Lawrence' 'Canton'\n",
      " 'New Rochelle' 'Gastonia' 'Jacksonville' 'Auburn' 'Norman' 'Park Ridge'\n",
      " 'Amarillo' 'Lindenhurst' 'Huntsville' 'Fayetteville' 'Costa Mesa'\n",
      " 'Parker' 'Atlanta' 'Gladstone' 'Great Falls' 'Lakeland' 'Montgomery'\n",
      " 'Mesa' 'Green Bay' 'Anaheim' 'Marysville' 'Salem' 'Laredo' 'Grove City'\n",
      " 'Dearborn' 'Warner Robins' 'Vallejo' 'Mission Viejo' 'Rochester Hills'\n",
      " 'Plainfield' 'Sierra Vista' 'Vancouver' 'Cleveland' 'Tyler' 'Burlington'\n",
      " 'Waynesboro' 'Chester' 'Cary' 'Palm Coast' 'Mount Vernon' 'Hialeah'\n",
      " 'Oceanside' 'Evanston' 'Trenton' 'Cottage Grove' 'Bossier City'\n",
      " 'Lancaster' 'Asheville' 'Lake Elsinore' 'Omaha' 'Edmonds' 'Santa Ana'\n",
      " 'Milwaukee' 'Florence' 'Lorain' 'Linden' 'Salinas' 'New Brunswick'\n",
      " 'Garland' 'Norwich' 'Alexandria' 'Toledo' 'Farmington' 'Riverside'\n",
      " 'Torrance' 'Round Rock' 'Boca Raton' 'Virginia Beach' 'Murrieta'\n",
      " 'Olympia' 'Washington' 'Jefferson City' 'Saint Peters' 'Rockford'\n",
      " 'Brownsville' 'Yonkers' 'Oakland' 'Clinton' 'Encinitas' 'Roswell'\n",
      " 'Jonesboro' 'Antioch' 'Homestead' 'La Porte' 'Lansing' 'Cuyahoga Falls'\n",
      " 'Reno' 'Harrisonburg' 'Escondido' 'Royal Oak' 'Rockville' 'Coral Springs'\n",
      " 'Buffalo' 'Boynton Beach' 'Gulfport' 'Fresno' 'Greenville' 'Macon'\n",
      " 'Cedar Rapids' 'Providence' 'Pueblo' 'Deltona' 'Murray' 'Middletown'\n",
      " 'Freeport' 'Pico Rivera' 'Provo' 'Pleasant Grove' 'Smyrna' 'Parma'\n",
      " 'Mobile' 'New Bedford' 'Irving' 'Vineland' 'Glendale' 'Niagara Falls'\n",
      " 'Thomasville' 'Westminster' 'Coppell' 'Pomona' 'North Las Vegas'\n",
      " 'Allentown' 'Tempe' 'Laguna Niguel' 'Bridgeton' 'Everett' 'Watertown'\n",
      " 'Appleton' 'Bellevue' 'Allen' 'El Paso' 'Grapevine' 'Carrollton' 'Kent'\n",
      " 'Lafayette' 'Tigard' 'Skokie' 'Plano' 'Suffolk' 'Indianapolis' 'Bayonne'\n",
      " 'Greensboro' 'Baltimore' 'Kenosha' 'Olathe' 'Tulsa' 'Redmond' 'Raleigh'\n",
      " 'Muskogee' 'Meriden' 'Bowling Green' 'South Bend' 'Spokane' 'Keller'\n",
      " 'Port Orange' 'Medford' 'Charlottesville' 'Missoula' 'Apopka' 'Reading'\n",
      " 'Broomfield' 'Paterson' 'Oklahoma City' 'Chesapeake' 'Lubbock'\n",
      " 'Johnson City' 'San Bernardino' 'Leominster' 'Bozeman' 'Perth Amboy'\n",
      " 'Ontario' 'Rancho Cucamonga' 'Moorhead' 'Mesquite' 'Stockton'\n",
      " 'Ormond Beach' 'Sunnyvale' 'York' 'College Station' 'Saint Louis'\n",
      " 'Manteca' 'San Angelo' 'Salt Lake City' 'Knoxville' 'Little Rock'\n",
      " 'Lincoln Park' 'Marion' 'Littleton' 'Bangor' 'Southaven' 'New Castle'\n",
      " 'Midland' 'Sioux Falls' 'Fort Collins' 'Clarksville' 'Sacramento'\n",
      " 'Thousand Oaks' 'Malden' 'Holyoke' 'Albuquerque' 'Sparks' 'Coachella'\n",
      " 'Elmhurst' 'Passaic' 'North Charleston' 'Newport News' 'Jamestown'\n",
      " 'Mishawaka' 'La Quinta' 'Tallahassee' 'Nashville' 'Bellingham'\n",
      " 'Woodstock' 'Haltom City' 'Wheeling' 'Summerville' 'Hot Springs'\n",
      " 'Englewood' 'Las Cruces' 'Hoover' 'Frisco' 'Vacaville' 'Waukesha'\n",
      " 'Bakersfield' 'Pompano Beach' 'Corpus Christi' 'Redondo Beach' 'Orlando'\n",
      " 'Orange' 'Lake Charles' 'Highland Park' 'Hempstead' 'Noblesville'\n",
      " 'Apple Valley' 'Mount Pleasant' 'Sterling Heights' 'Eau Claire' 'Pharr'\n",
      " 'Billings' 'Gresham' 'Chattanooga' 'Meridian' 'Bolingbrook' 'Maple Grove'\n",
      " 'Woodland' 'Missouri City' 'Pearland' 'San Mateo' 'Grand Rapids'\n",
      " 'Visalia' 'Overland Park' 'Temecula' 'Yucaipa' 'Revere' 'Conroe'\n",
      " 'Tinley Park' 'Dubuque' 'Dearborn Heights' 'Santa Fe' 'Hickory'\n",
      " 'Carol Stream' 'Saint Cloud' 'North Miami' 'Plantation'\n",
      " 'Port Saint Lucie' 'Rock Hill' 'Odessa' 'West Allis' 'Chula Vista'\n",
      " 'Manhattan' 'Altoona' 'Thornton' 'Champaign' 'Texarkana' 'Edinburg'\n",
      " 'Baytown' 'Greenwood' 'Woonsocket' 'Superior' 'Bedford' 'Covington'\n",
      " 'Broken Arrow' 'Miramar' 'Hollywood' 'Deer Park' 'Wichita' 'Mcallen'\n",
      " 'Iowa City' 'Boise' 'Cranston' 'Port Arthur' 'Citrus Heights'\n",
      " 'The Colony' 'Daytona Beach' 'Bullhead City' 'Portage' 'Fargo' 'Elkhart'\n",
      " 'San Gabriel' 'Margate' 'Sandy Springs' 'Mentor' 'Lawton' 'Hampton'\n",
      " 'Rome' 'La Crosse' 'Lewiston' 'Hattiesburg' 'Danville' 'Logan'\n",
      " 'Waterbury' 'Athens' 'Avondale' 'Marietta' 'Yuma' 'Wausau' 'Pasco'\n",
      " 'Oak Park' 'Pensacola' 'League City' 'Gaithersburg' 'Lehi' 'Tuscaloosa'\n",
      " 'Moreno Valley' 'Georgetown' 'Loveland' 'Chandler' 'Helena' 'Kirkwood'\n",
      " 'Waco' 'Frankfort' 'Bethlehem' 'Grand Island' 'Woodbury' 'Rogers'\n",
      " 'Clovis' 'Jupiter' 'Santa Barbara' 'Cedar Hill' 'Norfolk' 'Draper'\n",
      " 'Ann Arbor' 'La Mesa' 'Pocatello' 'Holland' 'Milford' 'Buffalo Grove'\n",
      " 'Lake Forest' 'Redding' 'Chico' 'Utica' 'Conway' 'Cheyenne' 'Owensboro'\n",
      " 'Caldwell' 'Kenner' 'Nashua' 'Bartlett' 'Redwood City' 'Lebanon'\n",
      " 'Santa Maria' 'Des Plaines' 'Longview' 'Hendersonville' 'Waterloo'\n",
      " 'Cambridge' 'Palatine' 'Beverly' 'Eugene' 'Oxnard' 'Renton' 'Glenview'\n",
      " 'Delray Beach' 'Commerce City' 'Texas City' 'Wilson' 'Rio Rancho'\n",
      " 'Goldsboro' 'Montebello' 'El Cajon' 'Beaumont' 'West Palm Beach'\n",
      " 'Abilene' 'Normal' 'Saint Charles' 'Camarillo' 'Hillsboro' 'Burbank'\n",
      " 'Modesto' 'Garden City' 'Atlantic City' 'Longmont' 'Davis' 'Morgan Hill'\n",
      " 'Clifton' 'Sheboygan' 'East Point' 'Rapid City' 'Andover' 'Kissimmee'\n",
      " 'Shelton' 'Danbury' 'Sanford' 'San Marcos' 'Greeley' 'Mansfield' 'Elyria'\n",
      " 'Twin Falls' 'Coral Gables' 'Romeoville' 'Marlborough' 'Laurel' 'Bryan'\n",
      " 'Pine Bluff' 'Aberdeen' 'Hagerstown' 'East Orange' 'Arlington Heights'\n",
      " 'Oswego' 'Coon Rapids' 'San Clemente' 'San Luis Obispo' 'Springdale']\n",
      "              City  count\n",
      "0    New York City    891\n",
      "1      Los Angeles    728\n",
      "2     Philadelphia    532\n",
      "3    San Francisco    500\n",
      "4          Seattle    426\n",
      "..             ...    ...\n",
      "524      San Mateo      1\n",
      "525       Cheyenne      1\n",
      "526         Conway      1\n",
      "527      Melbourne      1\n",
      "528     Springdale      1\n",
      "\n",
      "[529 rows x 2 columns]\n",
      "              City  No. of customers\n",
      "0    New York City               891\n",
      "1      Los Angeles               728\n",
      "2     Philadelphia               532\n",
      "3    San Francisco               500\n",
      "4          Seattle               426\n",
      "..             ...               ...\n",
      "524      San Mateo                 1\n",
      "525       Cheyenne                 1\n",
      "526         Conway                 1\n",
      "527      Melbourne                 1\n",
      "528     Springdale                 1\n",
      "\n",
      "[529 rows x 2 columns]\n",
      "            City  No. of customers\n",
      "0  New York City               891\n",
      "1    Los Angeles               728\n",
      "2   Philadelphia               532\n",
      "3  San Francisco               500\n",
      "4        Seattle               426\n",
      "5        Houston               374\n",
      "6        Chicago               308\n"
     ]
    }
   ],
   "source": [
    "#customers by city\n",
    "city = df['City'].unique()\n",
    "print(city)\n",
    "city = df['City'].value_counts().reset_index()\n",
    "print(city )\n",
    "city = city.rename(columns = {'count':'No. of customers'})\n",
    "print(city)\n",
    "print(city.head(7))"
   ]
  },
  {
   "cell_type": "code",
   "execution_count": 80,
   "id": "a23b82cc-fbc1-4e12-8e71-dcf4830b08b3",
   "metadata": {},
   "outputs": [
    {
     "name": "stdout",
     "output_type": "stream",
     "text": [
      "                   State        Sales\n",
      "0                Alabama   19510.6400\n",
      "1                Arizona   35272.6570\n",
      "2               Arkansas   11678.1300\n",
      "3             California  446306.4635\n",
      "4               Colorado   31841.5980\n",
      "5            Connecticut   13384.3570\n",
      "6               Delaware   27322.9990\n",
      "7   District of Columbia    2865.0200\n",
      "8                Florida   88436.5320\n",
      "9                Georgia   48219.1100\n",
      "10                 Idaho    4382.4860\n",
      "11              Illinois   79236.5170\n",
      "12               Indiana   48718.4000\n",
      "13                  Iowa    4443.5600\n",
      "14                Kansas    2914.3100\n",
      "15              Kentucky   36458.3900\n",
      "16             Louisiana    9131.0500\n",
      "17                 Maine    1270.5300\n",
      "18              Maryland   23705.5230\n",
      "19         Massachusetts   28634.4340\n",
      "20              Michigan   76136.0740\n",
      "21             Minnesota   29863.1500\n",
      "22           Mississippi   10771.3400\n",
      "23              Missouri   22205.1500\n",
      "24               Montana    5589.3520\n",
      "25              Nebraska    7464.9300\n",
      "26                Nevada   16729.1020\n",
      "27         New Hampshire    7292.5240\n",
      "28            New Jersey   34610.9720\n",
      "29            New Mexico    4783.5220\n",
      "30              New York  306361.1470\n",
      "31        North Carolina   55165.9640\n",
      "32          North Dakota     919.9100\n",
      "33                  Ohio   75130.3500\n",
      "34              Oklahoma   19683.3900\n",
      "35                Oregon   17284.4620\n",
      "36          Pennsylvania  116276.6500\n",
      "37          Rhode Island   22525.0260\n",
      "38        South Carolina    8481.7100\n",
      "39          South Dakota    1315.5600\n",
      "40             Tennessee   30661.8730\n",
      "41                 Texas  168572.5322\n",
      "42                  Utah   11220.0560\n",
      "43               Vermont    8929.3700\n",
      "44              Virginia   70636.7200\n",
      "45            Washington  135206.8500\n",
      "46         West Virginia    1209.8240\n",
      "47             Wisconsin   31173.4300\n",
      "48               Wyoming    1603.1360\n",
      "                   State        Sales\n",
      "3             California  446306.4635\n",
      "30              New York  306361.1470\n",
      "41                 Texas  168572.5322\n",
      "45            Washington  135206.8500\n",
      "36          Pennsylvania  116276.6500\n",
      "8                Florida   88436.5320\n",
      "11              Illinois   79236.5170\n",
      "20              Michigan   76136.0740\n",
      "33                  Ohio   75130.3500\n",
      "44              Virginia   70636.7200\n",
      "31        North Carolina   55165.9640\n",
      "12               Indiana   48718.4000\n",
      "9                Georgia   48219.1100\n",
      "15              Kentucky   36458.3900\n",
      "1                Arizona   35272.6570\n",
      "28            New Jersey   34610.9720\n",
      "4               Colorado   31841.5980\n",
      "47             Wisconsin   31173.4300\n",
      "40             Tennessee   30661.8730\n",
      "21             Minnesota   29863.1500\n",
      "19         Massachusetts   28634.4340\n",
      "6               Delaware   27322.9990\n",
      "18              Maryland   23705.5230\n",
      "37          Rhode Island   22525.0260\n",
      "23              Missouri   22205.1500\n",
      "34              Oklahoma   19683.3900\n",
      "0                Alabama   19510.6400\n",
      "35                Oregon   17284.4620\n",
      "26                Nevada   16729.1020\n",
      "5            Connecticut   13384.3570\n",
      "2               Arkansas   11678.1300\n",
      "42                  Utah   11220.0560\n",
      "22           Mississippi   10771.3400\n",
      "16             Louisiana    9131.0500\n",
      "43               Vermont    8929.3700\n",
      "38        South Carolina    8481.7100\n",
      "25              Nebraska    7464.9300\n",
      "27         New Hampshire    7292.5240\n",
      "24               Montana    5589.3520\n",
      "29            New Mexico    4783.5220\n",
      "13                  Iowa    4443.5600\n",
      "10                 Idaho    4382.4860\n",
      "14                Kansas    2914.3100\n",
      "7   District of Columbia    2865.0200\n",
      "48               Wyoming    1603.1360\n",
      "39          South Dakota    1315.5600\n",
      "17                 Maine    1270.5300\n",
      "46         West Virginia    1209.8240\n",
      "32          North Dakota     919.9100\n"
     ]
    }
   ],
   "source": [
    "#to find the sales by state, as we have to take 2 columns so use-groupby\n",
    "state_sales = df.groupby(['State'])['Sales'].sum().reset_index()\n",
    "print(state_sales)\n",
    "#sort in descending order and print first 10\n",
    "top_state_sales = state_sales.sort_values(by = 'Sales', ascending = False)\n",
    "print(top_state_sales)"
   ]
  },
  {
   "cell_type": "code",
   "execution_count": 57,
   "id": "0844b0e9-8935-46fb-a7e1-1bd82e32fa69",
   "metadata": {},
   "outputs": [
    {
     "name": "stdout",
     "output_type": "stream",
     "text": [
      "          State        Sales\n",
      "0    California  446306.4635\n",
      "1      New York  306361.1470\n",
      "2         Texas  168572.5322\n",
      "3    Washington  135206.8500\n",
      "4  Pennsylvania  116276.6500\n",
      "5       Florida   88436.5320\n",
      "6      Illinois   79236.5170\n",
      "7      Michigan   76136.0740\n",
      "8          Ohio   75130.3500\n",
      "9      Virginia   70636.7200\n"
     ]
    }
   ],
   "source": [
    "print(top_state_sales.head(10).reset_index(drop = True))"
   ]
  },
  {
   "cell_type": "code",
   "execution_count": 58,
   "id": "359b3fbc-b56a-4168-a707-d3ef77f8d329",
   "metadata": {},
   "outputs": [
    {
     "name": "stdout",
     "output_type": "stream",
     "text": [
      "            City     Sales\n",
      "0       Aberdeen    25.500\n",
      "1        Abilene     1.392\n",
      "2          Akron  2724.244\n",
      "3    Albuquerque  2220.160\n",
      "4     Alexandria  5519.570\n",
      "..           ...       ...\n",
      "524   Woonsocket   195.550\n",
      "525      Yonkers  7657.666\n",
      "526         York   817.978\n",
      "527      Yucaipa    50.800\n",
      "528         Yuma   840.865\n",
      "\n",
      "[529 rows x 2 columns]\n",
      "              City       Sales\n",
      "327  New York City  252462.547\n",
      "265    Los Angeles  173420.181\n",
      "450        Seattle  116106.322\n",
      "436  San Francisco  109041.120\n",
      "372   Philadelphia  108841.749\n",
      "..             ...         ...\n",
      "352   Ormond Beach       2.808\n",
      "368      Pensacola       2.214\n",
      "221        Jupiter       2.064\n",
      "140         Elyria       1.824\n",
      "1          Abilene       1.392\n",
      "\n",
      "[529 rows x 2 columns]\n"
     ]
    }
   ],
   "source": [
    "#sales by city\n",
    "city_sales = df.groupby(['City'])['Sales'].sum().reset_index()\n",
    "print(city_sales)\n",
    "#sort in descending order and print first 10\n",
    "top_city_sales = city_sales.sort_values(by = 'Sales', ascending = False)\n",
    "print(top_city_sales)"
   ]
  },
  {
   "cell_type": "code",
   "execution_count": 59,
   "id": "d347ee4d-dc90-48c2-9008-fb380eeb8e32",
   "metadata": {},
   "outputs": [
    {
     "name": "stdout",
     "output_type": "stream",
     "text": [
      "            City        Sales\n",
      "0  New York City  252462.5470\n",
      "1    Los Angeles  173420.1810\n",
      "2        Seattle  116106.3220\n",
      "3  San Francisco  109041.1200\n",
      "4   Philadelphia  108841.7490\n",
      "5        Houston   63956.1428\n",
      "6        Chicago   47820.1330\n",
      "7      San Diego   47521.0290\n",
      "8   Jacksonville   44713.1830\n",
      "9        Detroit   42446.9440\n"
     ]
    }
   ],
   "source": [
    "print(top_city_sales.head(10).reset_index(drop = True))"
   ]
  },
  {
   "cell_type": "code",
   "execution_count": 61,
   "id": "4d61e460-e72c-4159-b05c-b828ef93778d",
   "metadata": {},
   "outputs": [
    {
     "name": "stdout",
     "output_type": "stream",
     "text": [
      "['Furniture' 'Office Supplies' 'Technology']\n"
     ]
    }
   ],
   "source": [
    "#product Analysis\n",
    "#1. to analyse category and sub-category of products\n",
    "product_category = df['Category'].unique()\n",
    "print(product_category)"
   ]
  },
  {
   "cell_type": "code",
   "execution_count": 62,
   "id": "0ed9acbd-08c7-4b0a-8394-c92831b931c5",
   "metadata": {},
   "outputs": [
    {
     "name": "stdout",
     "output_type": "stream",
     "text": [
      "['Bookcases' 'Chairs' 'Labels' 'Tables' 'Storage' 'Furnishings' 'Art'\n",
      " 'Phones' 'Binders' 'Appliances' 'Paper' 'Accessories' 'Envelopes'\n",
      " 'Fasteners' 'Supplies' 'Machines' 'Copiers']\n"
     ]
    }
   ],
   "source": [
    "product_subcategory = df['Sub-Category'].unique()\n",
    "print(product_subcategory)"
   ]
  },
  {
   "cell_type": "code",
   "execution_count": 63,
   "id": "d3b0ebd7-e832-47bb-a0bb-6dc0ee88fd20",
   "metadata": {},
   "outputs": [
    {
     "name": "stdout",
     "output_type": "stream",
     "text": [
      "17\n"
     ]
    }
   ],
   "source": [
    "product_subcategory = df['Sub-Category'].nunique()\n",
    "print(product_subcategory)"
   ]
  },
  {
   "cell_type": "code",
   "execution_count": 66,
   "id": "16cb39fc-be9b-465d-b6f7-d4c9dee18108",
   "metadata": {},
   "outputs": [
    {
     "name": "stdout",
     "output_type": "stream",
     "text": [
      "          Category  Sub-Category\n",
      "0        Furniture             4\n",
      "1  Office Supplies             9\n",
      "2       Technology             4\n"
     ]
    }
   ],
   "source": [
    "#i want to groupby- category with subcategory tofind out how many sub_categories are there in each category?\n",
    "subcategory_count =df.groupby(['Category'])['Sub-Category'].nunique().reset_index()\n",
    "print(subcategory_count)\n"
   ]
  },
  {
   "cell_type": "code",
   "execution_count": 68,
   "id": "51e980f4-3ad2-47f7-9a79-2d9492d5c15d",
   "metadata": {},
   "outputs": [
    {
     "name": "stdout",
     "output_type": "stream",
     "text": [
      "          Category  Sub-Category\n",
      "1  Office Supplies             9\n",
      "0        Furniture             4\n",
      "2       Technology             4\n"
     ]
    }
   ],
   "source": [
    "#to sort in ascending order \n",
    "subcategory_count = subcategory_count.sort_values(by = 'Sub-Category', ascending = False)\n",
    "print(subcategory_count)"
   ]
  },
  {
   "cell_type": "code",
   "execution_count": 69,
   "id": "76146a8b-c1a4-49b7-85a4-669d792d33a9",
   "metadata": {},
   "outputs": [
    {
     "name": "stdout",
     "output_type": "stream",
     "text": [
      "          Category  Sub-Category\n",
      "0  Office Supplies             9\n",
      "1        Furniture             4\n",
      "2       Technology             4\n"
     ]
    }
   ],
   "source": [
    "#As we can see in the output that index also changed but I want the index in sequence so I'll use reset_index(drop = True)\n",
    "print(subcategory_count.reset_index(drop = True))"
   ]
  },
  {
   "cell_type": "code",
   "execution_count": 71,
   "id": "de0ea39c-4890-4c52-b19e-0a148a940214",
   "metadata": {},
   "outputs": [
    {
     "name": "stdout",
     "output_type": "stream",
     "text": [
      "          Category        Sales\n",
      "0        Furniture  728658.5757\n",
      "1  Office Supplies  705422.3340\n",
      "2       Technology  827455.8730\n"
     ]
    }
   ],
   "source": [
    "#Sales per product category\n",
    "product_sales = df.groupby(['Category'])['Sales'].sum().reset_index()\n",
    "print(product_sales)\n",
    "                        "
   ]
  },
  {
   "cell_type": "code",
   "execution_count": 72,
   "id": "090ff194-7689-4241-a2c0-44c28e324169",
   "metadata": {},
   "outputs": [
    {
     "name": "stdout",
     "output_type": "stream",
     "text": [
      "          Category        Sales\n",
      "2       Technology  827455.8730\n",
      "0        Furniture  728658.5757\n",
      "1  Office Supplies  705422.3340\n"
     ]
    }
   ],
   "source": [
    "#Which product category has the highest sales-sort in descending order\n",
    "product_sales = product_sales.sort_values(by = 'Sales',ascending = False)\n",
    "print(product_sales)"
   ]
  },
  {
   "cell_type": "code",
   "execution_count": 73,
   "id": "7311c8a2-028a-4e41-985e-b26721ff5ae8",
   "metadata": {},
   "outputs": [
    {
     "name": "stdout",
     "output_type": "stream",
     "text": [
      "          Category        Sales\n",
      "0       Technology  827455.8730\n",
      "1        Furniture  728658.5757\n",
      "2  Office Supplies  705422.3340\n"
     ]
    }
   ],
   "source": [
    "#to get index in sequence\n",
    "print(product_sales.reset_index(drop = True))"
   ]
  },
  {
   "cell_type": "code",
   "execution_count": 74,
   "id": "5c5ff420-c1f7-45e9-b3fb-1086eb4e72f8",
   "metadata": {},
   "outputs": [
    {
     "data": {
      "image/png": "[encoded data removed]",
      "text/plain": [
       "<Figure size 640x480 with 1 Axes>"
      ]
     },
     "metadata": {},
     "output_type": "display_data"
    }
   ],
   "source": [
    "#plot a pie chart\n",
    "plt.pie(product_sales['Sales'], labels = product_sales['Category'],autopct = '%1.1f%%')\n",
    "plt.title(\"Distribution of sales across categories\") #or top product category based on sales\n",
    "plt.show()"
   ]
  },
  {
   "cell_type": "code",
   "execution_count": 75,
   "id": "2bcd4e9c-8fef-407f-a8a1-288c0e01897e",
   "metadata": {},
   "outputs": [
    {
     "name": "stdout",
     "output_type": "stream",
     "text": [
      "   Sub-Category        Sales\n",
      "0   Accessories  164186.7000\n",
      "1    Appliances  104618.4030\n",
      "2           Art   26705.4100\n",
      "3       Binders  200028.7850\n",
      "4     Bookcases  113813.1987\n",
      "5        Chairs  322822.7310\n",
      "6       Copiers  146248.0940\n",
      "7     Envelopes   16128.0460\n",
      "8     Fasteners    3001.9600\n",
      "9   Furnishings   89212.0180\n",
      "10       Labels   12347.7260\n",
      "11     Machines  189238.6310\n",
      "12        Paper   76828.3040\n",
      "13       Phones  327782.4480\n",
      "14      Storage  219343.3920\n",
      "15     Supplies   46420.3080\n",
      "16       Tables  202810.6280\n"
     ]
    }
   ],
   "source": [
    "#Sales per product subcategory\n",
    "subcategory_sales = df.groupby(['Sub-Category'])['Sales'].sum().reset_index()\n",
    "print(subcategory_sales)"
   ]
  },
  {
   "cell_type": "code",
   "execution_count": 76,
   "id": "e9964eb4-8c25-4d0b-92e2-2fd795e777da",
   "metadata": {},
   "outputs": [
    {
     "name": "stdout",
     "output_type": "stream",
     "text": [
      "   Sub-Category        Sales\n",
      "13       Phones  327782.4480\n",
      "5        Chairs  322822.7310\n",
      "14      Storage  219343.3920\n",
      "16       Tables  202810.6280\n",
      "3       Binders  200028.7850\n",
      "11     Machines  189238.6310\n",
      "0   Accessories  164186.7000\n",
      "6       Copiers  146248.0940\n",
      "4     Bookcases  113813.1987\n",
      "1    Appliances  104618.4030\n",
      "9   Furnishings   89212.0180\n",
      "12        Paper   76828.3040\n",
      "15     Supplies   46420.3080\n",
      "2           Art   26705.4100\n",
      "7     Envelopes   16128.0460\n",
      "10       Labels   12347.7260\n",
      "8     Fasteners    3001.9600\n"
     ]
    }
   ],
   "source": [
    "subcategory_sales = subcategory_sales.sort_values(by = 'Sales', ascending = False)\n",
    "print(subcategory_sales)"
   ]
  },
  {
   "cell_type": "code",
   "execution_count": 77,
   "id": "83fb19be-4763-41c6-936e-0182f54c3932",
   "metadata": {},
   "outputs": [
    {
     "name": "stdout",
     "output_type": "stream",
     "text": [
      "   Sub-Category        Sales\n",
      "0        Phones  327782.4480\n",
      "1        Chairs  322822.7310\n",
      "2       Storage  219343.3920\n",
      "3        Tables  202810.6280\n",
      "4       Binders  200028.7850\n",
      "5      Machines  189238.6310\n",
      "6   Accessories  164186.7000\n",
      "7       Copiers  146248.0940\n",
      "8     Bookcases  113813.1987\n",
      "9    Appliances  104618.4030\n",
      "10  Furnishings   89212.0180\n",
      "11        Paper   76828.3040\n",
      "12     Supplies   46420.3080\n",
      "13          Art   26705.4100\n",
      "14    Envelopes   16128.0460\n",
      "15       Labels   12347.7260\n",
      "16    Fasteners    3001.9600\n"
     ]
    }
   ],
   "source": [
    "print(subcategory_sales.reset_index(drop = True))"
   ]
  },
  {
   "cell_type": "code",
   "execution_count": 79,
   "id": "246b2fd7-87a8-458c-9695-b79afd2c3b9a",
   "metadata": {},
   "outputs": [
    {
     "data": {
      "image/png": "[encoded data removed]",
      "text/plain": [
       "<Figure size 640x480 with 1 Axes>"
      ]
     },
     "metadata": {},
     "output_type": "display_data"
    }
   ],
   "source": [
    "#Plot a horizontal bar graph\n",
    "plt.barh(subcategory_sales['Sub-Category'],subcategory_sales['Sales'])\n",
    "plt.xlabel('Sales')\n",
    "plt.ylabel('Sub-Category')\n",
    "plt.title(\"Top sub-category based on sales\")\n",
    "plt.show()"
   ]
  },
  {
   "cell_type": "code",
   "execution_count": 81,
   "id": "860eac97-07fb-407b-9b60-aab42c536984",
   "metadata": {},
   "outputs": [
    {
     "data": {
      "image/png": "[encoded data removed]",
      "text/plain": [
       "<Figure size 640x480 with 1 Axes>"
      ]
     },
     "metadata": {},
     "output_type": "display_data"
    }
   ],
   "source": [
    "#to show the highest sale bar at the top and lowest sale bar at the bottom-change the sorting- ascending = True\n",
    "subcategory_sales = subcategory_sales.sort_values(by = 'Sales', ascending = True)\n",
    "plt.barh(subcategory_sales['Sub-Category'],subcategory_sales['Sales'])\n",
    "plt.xlabel('Sales')\n",
    "plt.ylabel('Sub-Category')\n",
    "plt.title(\"Top sub-category based on sales\")\n",
    "plt.show()"
   ]
  },
  {
   "cell_type": "code",
   "execution_count": 85,
   "id": "3a43f82d-d81d-4576-906a-dcffc19f5e8a",
   "metadata": {},
   "outputs": [
    {
     "name": "stdout",
     "output_type": "stream",
     "text": [
      "0      2017-11-08\n",
      "1      2017-11-08\n",
      "2      2017-06-12\n",
      "3      2016-10-11\n",
      "4      2016-10-11\n",
      "          ...    \n",
      "9795   2017-05-21\n",
      "9796   2016-01-12\n",
      "9797   2016-01-12\n",
      "9798   2016-01-12\n",
      "9799   2016-01-12\n",
      "Name: Order Date, Length: 9800, dtype: datetime64[ns]\n"
     ]
    }
   ],
   "source": [
    "#Sales Trend Analysis\n",
    "#1. to convert order date into date time format\n",
    "df['Order Date'] = pd.to_datetime(df['Order Date'],dayfirst = True)\n",
    "print(df['Order Date'])"
   ]
  },
  {
   "cell_type": "code",
   "execution_count": 88,
   "id": "444a36ed-e0e3-4274-aabe-5fc489096339",
   "metadata": {},
   "outputs": [
    {
     "name": "stdout",
     "output_type": "stream",
     "text": [
      "0      2017-11-08\n",
      "1      2017-11-08\n",
      "2      2017-06-12\n",
      "3      2016-10-11\n",
      "4      2016-10-11\n",
      "          ...    \n",
      "9795   2017-05-21\n",
      "9796   2016-01-12\n",
      "9797   2016-01-12\n",
      "9798   2016-01-12\n",
      "9799   2016-01-12\n",
      "Name: Order Date, Length: 9800, dtype: datetime64[ns]\n",
      "Order Date\n",
      "2015    479856.2081\n",
      "2016    459436.0054\n",
      "2017    600192.5500\n",
      "2018    722052.0192\n",
      "Name: Sales, dtype: float64\n"
     ]
    }
   ],
   "source": [
    "#grouping by year and summing the sales per year\n",
    "df['Order Date'] = pd.to_datetime(df['Order Date'],dayfirst = True)\n",
    "print(df['Order Date'])\n",
    "yearly_sales = df.groupby(df['Order Date'].dt.year)['Sales'].sum()\n",
    "print(yearly_sales)"
   ]
  },
  {
   "cell_type": "code",
   "execution_count": 89,
   "id": "90c73399-241d-4361-b6bc-b92a16aef257",
   "metadata": {},
   "outputs": [
    {
     "name": "stdout",
     "output_type": "stream",
     "text": [
      "   Order Date        Sales\n",
      "0        2015  479856.2081\n",
      "1        2016  459436.0054\n",
      "2        2017  600192.5500\n",
      "3        2018  722052.0192\n"
     ]
    }
   ],
   "source": [
    "#to reset index and to rename the columns\n",
    "yearly_sales = df.groupby(df['Order Date'].dt.year)['Sales'].sum().reset_index()\n",
    "print(yearly_sales)\n"
   ]
  },
  {
   "cell_type": "code",
   "execution_count": 90,
   "id": "24c54418-78f3-48b4-8d2c-5b321e44350c",
   "metadata": {},
   "outputs": [
    {
     "name": "stdout",
     "output_type": "stream",
     "text": [
      "   Year  Total Sales\n",
      "0  2015  479856.2081\n",
      "1  2016  459436.0054\n",
      "2  2017  600192.5500\n",
      "3  2018  722052.0192\n"
     ]
    }
   ],
   "source": [
    "#rename the columns\n",
    "yearly_sales = yearly_sales.rename(columns = {'Order Date':'Year','Sales':'Total Sales'})\n",
    "print(yearly_sales)\n",
    "                                "
   ]
  },
  {
   "cell_type": "code",
   "execution_count": 95,
   "id": "f1a6a996-2543-4ee2-9554-ed6a105c8ee2",
   "metadata": {},
   "outputs": [
    {
     "data": {
      "image/png": "[encoded data removed]",
      "text/plain": [
       "<Figure size 640x480 with 1 Axes>"
      ]
     },
     "metadata": {},
     "output_type": "display_data"
    }
   ],
   "source": [
    "#to plot a bar graph\n",
    "plt.bar(yearly_sales['Year'],yearly_sales['Total Sales'])\n",
    "plt.xlabel('Year')\n",
    "plt.ylabel('Sales')\n",
    "plt.title(\"Yearly Sales\")\n",
    "plt.xticks(rotation = 65)\n",
    "plt.show()"
   ]
  },
  {
   "cell_type": "code",
   "execution_count": 104,
   "id": "21972f6e-e734-4d4d-813a-d8f77e854994",
   "metadata": {},
   "outputs": [
    {
     "name": "stdout",
     "output_type": "stream",
     "text": [
      "      Row ID        Order ID Order Date   Ship Date       Ship Mode  \\\n",
      "12        13  CA-2018-114412 2018-04-15  20/04/2018  Standard Class   \n",
      "23        24  US-2018-156909 2018-07-16  18/07/2018    Second Class   \n",
      "34        35  CA-2018-107727 2018-10-19  23/10/2018    Second Class   \n",
      "41        42  CA-2018-120999 2018-09-10  15/09/2018  Standard Class   \n",
      "43        44  CA-2018-139619 2018-09-19  23/09/2018  Standard Class   \n",
      "...      ...             ...        ...         ...             ...   \n",
      "9768    9769  CA-2018-142328 2018-12-07  14/12/2018  Standard Class   \n",
      "9787    9788  CA-2018-144491 2018-03-27  01/04/2018  Standard Class   \n",
      "9788    9789  CA-2018-144491 2018-03-27  01/04/2018  Standard Class   \n",
      "9789    9790  CA-2018-144491 2018-03-27  01/04/2018  Standard Class   \n",
      "9790    9791  CA-2018-144491 2018-03-27  01/04/2018  Standard Class   \n",
      "\n",
      "     Customer ID    Customer Name      Segment        Country           City  \\\n",
      "12      AA-10480     Andrew Allen     Consumer  United States        Concord   \n",
      "23      SF-20065  Sandra Flanagan     Consumer  United States   Philadelphia   \n",
      "34      MA-17560     Matt Abelman  Home Office  United States        Houston   \n",
      "41      LC-16930   Linda Cazamias    Corporate  United States     Naperville   \n",
      "43      ES-14080       Erin Smith    Corporate  United States      Melbourne   \n",
      "...          ...              ...          ...            ...            ...   \n",
      "9768    TC-21535    Tracy Collins  Home Office  United States  San Francisco   \n",
      "9787    CJ-12010  Caroline Jumper     Consumer  United States        Houston   \n",
      "9788    CJ-12010  Caroline Jumper     Consumer  United States        Houston   \n",
      "9789    CJ-12010  Caroline Jumper     Consumer  United States        Houston   \n",
      "9790    CJ-12010  Caroline Jumper     Consumer  United States        Houston   \n",
      "\n",
      "               State  Postal Code   Region       Product ID         Category  \\\n",
      "12    North Carolina      28027.0    South  OFF-PA-10002365  Office Supplies   \n",
      "23      Pennsylvania      19140.0     East  FUR-CH-10002774        Furniture   \n",
      "34             Texas      77095.0  Central  OFF-PA-10000249  Office Supplies   \n",
      "41          Illinois      60540.0  Central  TEC-PH-10004093       Technology   \n",
      "43           Florida      32935.0    South  OFF-ST-10003282  Office Supplies   \n",
      "...              ...          ...      ...              ...              ...   \n",
      "9768      California      94122.0     West  OFF-PA-10000380  Office Supplies   \n",
      "9787           Texas      77070.0  Central  FUR-BO-10001811        Furniture   \n",
      "9788           Texas      77070.0  Central  FUR-CH-10004063        Furniture   \n",
      "9789           Texas      77070.0  Central  TEC-AC-10004901       Technology   \n",
      "9790           Texas      77070.0  Central  FUR-CH-10001714        Furniture   \n",
      "\n",
      "     Sub-Category                                       Product Name     Sales  \n",
      "12          Paper                                         Xerox 1967    15.552  \n",
      "23         Chairs                 Global Deluxe Stacking Chair, Gray    71.372  \n",
      "34          Paper                                  Easy-staple paper    29.472  \n",
      "41         Phones                                 Panasonic Kx-TS550   147.168  \n",
      "43        Storage  Advantus 10-Drawer Portable Organizer, Chrome ...    95.616  \n",
      "...           ...                                                ...       ...  \n",
      "9768        Paper  REDIFORM Incoming/Outgoing Call Register, 11\" ...    50.040  \n",
      "9787    Bookcases  Atlantic Metals Mobile 5-Shelf Bookcases, Cust...  1023.332  \n",
      "9788       Chairs            Global Deluxe High-Back Manager's Chair   600.558  \n",
      "9789  Accessories  Kensington SlimBlade Notebook Wireless Mouse w...    39.992  \n",
      "9790       Chairs     Global Leather & Oak Executive Chair, Burgundy   211.246  \n",
      "\n",
      "[3258 rows x 18 columns]\n",
      "Order Date\n",
      "2018-03-31    122260.8842\n",
      "2018-06-30    127558.6200\n",
      "2018-09-30    193815.8400\n",
      "2018-12-31    278416.6750\n",
      "Freq: QE-DEC, Name: Sales, dtype: float64\n",
      "     Quarter  Total Sales\n",
      "0 2018-03-31  122260.8842\n",
      "1 2018-06-30  127558.6200\n",
      "2 2018-09-30  193815.8400\n",
      "3 2018-12-31  278416.6750\n"
     ]
    },
    {
     "name": "stderr",
     "output_type": "stream",
     "text": [
      "C:\\Users\\sunin\\AppData\\Local\\Temp\\ipykernel_30964\\788659384.py:6: FutureWarning: 'Q' is deprecated and will be removed in a future version, please use 'QE' instead.\n",
      "  quarterly_sales = yearly_sales.resample('Q',on ='Order Date')['Sales'].sum()\n"
     ]
    }
   ],
   "source": [
    "# Quartely Sales-1.First tell the python that date column is a day,month,year and convert it from string to datetime\n",
    "df['Order Date'] = pd.to_datetime(df['Order Date'], dayfirst = True)\n",
    "yearly_sales = df[df['Order Date'].dt.year == 2018]    #df[df['column name'] means  to filter rows based on a condition\n",
    "print(yearly_sales)\n",
    "#to print quarterly sales\n",
    "quarterly_sales = yearly_sales.resample('Q',on ='Order Date')['Sales'].sum()\n",
    "print(quarterly_sales)\n",
    "                                        "
   ]
  },
  {
   "cell_type": "code",
   "execution_count": 105,
   "id": "8d446b45-28ce-4278-9243-5ec47cbdde08",
   "metadata": {},
   "outputs": [
    {
     "name": "stdout",
     "output_type": "stream",
     "text": [
      "   index    Quarter  Total Sales\n",
      "0      0 2018-03-31  122260.8842\n",
      "1      1 2018-06-30  127558.6200\n",
      "2      2 2018-09-30  193815.8400\n",
      "3      3 2018-12-31  278416.6750\n"
     ]
    }
   ],
   "source": [
    "quarterly_sales = quarterly_sales.reset_index() \n",
    "quarterly_sales = quarterly_sales.rename(columns={'Order Date':'Quarter','Sales':'Total Sales'})\n",
    "print(quarterly_sales) "
   ]
  },
  {
   "cell_type": "code",
   "execution_count": 107,
   "id": "0d4e972b-6013-4281-a760-2fd9da760a8f",
   "metadata": {},
   "outputs": [
    {
     "data": {
      "image/png": "[encoded data removed]",
      "text/plain": [
       "<Figure size 640x480 with 1 Axes>"
      ]
     },
     "metadata": {},
     "output_type": "display_data"
    }
   ],
   "source": [
    "plt.plot(quarterly_sales['Quarter'],quarterly_sales['Total Sales'],marker = 'o',linestyle = \"--\")\n",
    "plt.xlabel('Quarter')\n",
    "plt.ylabel('Total Sales')\n",
    "plt.title(\"Quarterly Sales\")\n",
    "plt.xticks(rotation = 65)\n",
    "plt.show()\n"
   ]
  },
  {
   "cell_type": "code",
   "execution_count": 110,
   "id": "af81cc02-e8a3-4a08-b810-5b25045a7bf9",
   "metadata": {},
   "outputs": [
    {
     "name": "stdout",
     "output_type": "stream",
     "text": [
      "      Row ID        Order ID Order Date   Ship Date       Ship Mode  \\\n",
      "3          4  US-2016-108966 2016-10-11  18/10/2016  Standard Class   \n",
      "4          5  US-2016-108966 2016-10-11  18/10/2016  Standard Class   \n",
      "14        15  US-2016-118983 2016-11-22  26/11/2016  Standard Class   \n",
      "15        16  US-2016-118983 2016-11-22  26/11/2016  Standard Class   \n",
      "24        25  CA-2016-106320 2016-09-25  30/09/2016  Standard Class   \n",
      "...      ...             ...        ...         ...             ...   \n",
      "9785    9786  CA-2016-155635 2016-05-09  13/05/2016  Standard Class   \n",
      "9796    9797  CA-2016-128608 2016-01-12  17/01/2016  Standard Class   \n",
      "9797    9798  CA-2016-128608 2016-01-12  17/01/2016  Standard Class   \n",
      "9798    9799  CA-2016-128608 2016-01-12  17/01/2016  Standard Class   \n",
      "9799    9800  CA-2016-128608 2016-01-12  17/01/2016  Standard Class   \n",
      "\n",
      "     Customer ID     Customer Name      Segment        Country  \\\n",
      "3       SO-20335    Sean O'Donnell     Consumer  United States   \n",
      "4       SO-20335    Sean O'Donnell     Consumer  United States   \n",
      "14      HP-14815     Harold Pawlan  Home Office  United States   \n",
      "15      HP-14815     Harold Pawlan  Home Office  United States   \n",
      "24      EB-13870       Emily Burns     Consumer  United States   \n",
      "...          ...               ...          ...            ...   \n",
      "9785    ME-17725         Max Engle     Consumer  United States   \n",
      "9796    CS-12490  Cindy Schnelling    Corporate  United States   \n",
      "9797    CS-12490  Cindy Schnelling    Corporate  United States   \n",
      "9798    CS-12490  Cindy Schnelling    Corporate  United States   \n",
      "9799    CS-12490  Cindy Schnelling    Corporate  United States   \n",
      "\n",
      "                 City     State  Postal Code   Region       Product ID  \\\n",
      "3     Fort Lauderdale   Florida      33311.0    South  FUR-TA-10000577   \n",
      "4     Fort Lauderdale   Florida      33311.0    South  OFF-ST-10000760   \n",
      "14         Fort Worth     Texas      76106.0  Central  OFF-AP-10002311   \n",
      "15         Fort Worth     Texas      76106.0  Central  OFF-BI-10000756   \n",
      "24               Orem      Utah      84057.0     West  FUR-TA-10000577   \n",
      "...               ...       ...          ...      ...              ...   \n",
      "9785       Louisville  Kentucky      40214.0    South  OFF-BI-10000962   \n",
      "9796           Toledo      Ohio      43615.0     East  OFF-AR-10001374   \n",
      "9797           Toledo      Ohio      43615.0     East  TEC-PH-10004977   \n",
      "9798           Toledo      Ohio      43615.0     East  TEC-PH-10000912   \n",
      "9799           Toledo      Ohio      43615.0     East  TEC-AC-10000487   \n",
      "\n",
      "             Category Sub-Category  \\\n",
      "3           Furniture       Tables   \n",
      "4     Office Supplies      Storage   \n",
      "14    Office Supplies   Appliances   \n",
      "15    Office Supplies      Binders   \n",
      "24          Furniture       Tables   \n",
      "...               ...          ...   \n",
      "9785  Office Supplies      Binders   \n",
      "9796  Office Supplies          Art   \n",
      "9797       Technology       Phones   \n",
      "9798       Technology       Phones   \n",
      "9799       Technology  Accessories   \n",
      "\n",
      "                                           Product Name      Sales  \n",
      "3         Bretford CR4500 Series Slim Rectangular Table   957.5775  \n",
      "4                        Eldon Fold 'N Roll Cart System    22.3680  \n",
      "14    Holmes Replacement Filter for HEPA Air Cleaner...    68.8100  \n",
      "15     Storex DuraTech Recycled Plastic Frosted Binders     2.5440  \n",
      "24        Bretford CR4500 Series Slim Rectangular Table  1044.6300  \n",
      "...                                                 ...        ...  \n",
      "9785  Acco Flexible ACCOHIDE Square Ring Data Binder...    48.8100  \n",
      "9796           BIC Brite Liner Highlighters, Chisel Tip    10.3680  \n",
      "9797                                        GE 30524EE4   235.1880  \n",
      "9798           Anker 24W Portable Micro USB Car Charger    26.3760  \n",
      "9799                SanDisk Cruzer 4 GB USB Flash Drive    10.3840  \n",
      "\n",
      "[2055 rows x 18 columns]\n"
     ]
    }
   ],
   "source": [
    "# to cslculate quarterly sales for the year 2019\n",
    "df['Order Date'] = pd.to_datetime(df['Order Date'],dayfirst = True)\n",
    "yearly_sales  = df[df['Order Date'].dt.year == 2016]\n",
    "print(yearly_sales)"
   ]
  },
  {
   "cell_type": "code",
   "execution_count": 112,
   "id": "20b87803-82c5-4e79-b416-adf385a8d2e5",
   "metadata": {},
   "outputs": [
    {
     "name": "stdout",
     "output_type": "stream",
     "text": [
      "Order Date\n",
      "2016-03-31     62357.6870\n",
      "2016-06-30     87713.3730\n",
      "2016-09-30    128560.2072\n",
      "2016-12-31    180804.7382\n",
      "Freq: QE-DEC, Name: Sales, dtype: float64\n"
     ]
    },
    {
     "name": "stderr",
     "output_type": "stream",
     "text": [
      "C:\\Users\\sunin\\AppData\\Local\\Temp\\ipykernel_30964\\386408121.py:2: FutureWarning: 'Q' is deprecated and will be removed in a future version, please use 'QE' instead.\n",
      "  quarterly_sales = yearly_sales.resample('Q', on = 'Order Date')['Sales'].sum()\n"
     ]
    }
   ],
   "source": [
    "# to get quarterly sales in year\n",
    "quarterly_sales = yearly_sales.resample('Q', on = 'Order Date')['Sales'].sum()\n",
    "print(quarterly_sales)"
   ]
  },
  {
   "cell_type": "code",
   "execution_count": 113,
   "id": "c2925ed7-8ed0-4447-aabe-c61e22a78eb4",
   "metadata": {},
   "outputs": [
    {
     "name": "stdout",
     "output_type": "stream",
     "text": [
      "  Order Date        Sales\n",
      "0 2016-03-31   62357.6870\n",
      "1 2016-06-30   87713.3730\n",
      "2 2016-09-30  128560.2072\n",
      "3 2016-12-31  180804.7382\n"
     ]
    }
   ],
   "source": [
    "quarterly_sales = quarterly_sales.reset_index()\n",
    "print(quarterly_sales)\n"
   ]
  },
  {
   "cell_type": "code",
   "execution_count": 114,
   "id": "1046958c-52ff-41a9-b4c4-a9f527d5ab81",
   "metadata": {},
   "outputs": [
    {
     "name": "stdout",
     "output_type": "stream",
     "text": [
      "     Quarter  Total Sales\n",
      "0 2016-03-31   62357.6870\n",
      "1 2016-06-30   87713.3730\n",
      "2 2016-09-30  128560.2072\n",
      "3 2016-12-31  180804.7382\n"
     ]
    }
   ],
   "source": [
    "quarterly_sales = quarterly_sales.rename(columns={'Order Date': 'Quarter','Sales':'Total Sales'})\n",
    "print(quarterly_sales)"
   ]
  },
  {
   "cell_type": "code",
   "execution_count": 117,
   "id": "d8e892df-f50a-431c-9d65-bc35d34be2ec",
   "metadata": {},
   "outputs": [
    {
     "name": "stdout",
     "output_type": "stream",
     "text": [
      "Order Date\n",
      "2018-01-31     43476.4740\n",
      "2018-02-28     19920.9974\n",
      "2018-03-31     58863.4128\n",
      "2018-04-30     35541.9101\n",
      "2018-05-31     43825.9822\n",
      "2018-06-30     48190.7277\n",
      "2018-07-31     44825.1040\n",
      "2018-08-31     62837.8480\n",
      "2018-09-30     86152.8880\n",
      "2018-10-31     77448.1312\n",
      "2018-11-30    117938.1550\n",
      "2018-12-31     83030.3888\n",
      "Freq: ME, Name: Sales, dtype: float64\n"
     ]
    },
    {
     "name": "stderr",
     "output_type": "stream",
     "text": [
      "C:\\Users\\sunin\\AppData\\Local\\Temp\\ipykernel_30964\\3629664924.py:4: FutureWarning: 'M' is deprecated and will be removed in a future version, please use 'ME' instead.\n",
      "  monthly_sales = yearly_sales.resample('M', on = 'Order Date')['Sales'].sum()\n"
     ]
    }
   ],
   "source": [
    "#to calculate the monthly sales\n",
    "df['Order Date'] = pd.to_datetime(df['Order Date'],dayfirst = True)\n",
    "yearly_sales = df[df['Order Date'].dt.year == 2018]\n",
    "monthly_sales = yearly_sales.resample('M', on = 'Order Date')['Sales'].sum()\n",
    "print(monthly_sales)"
   ]
  },
  {
   "cell_type": "code",
   "execution_count": 119,
   "id": "a6112c64-9218-4d7b-bf0c-73289d4d718e",
   "metadata": {},
   "outputs": [
    {
     "name": "stdout",
     "output_type": "stream",
     "text": [
      "    index Order Date        Sales\n",
      "0       0 2018-01-31   43476.4740\n",
      "1       1 2018-02-28   19920.9974\n",
      "2       2 2018-03-31   58863.4128\n",
      "3       3 2018-04-30   35541.9101\n",
      "4       4 2018-05-31   43825.9822\n",
      "5       5 2018-06-30   48190.7277\n",
      "6       6 2018-07-31   44825.1040\n",
      "7       7 2018-08-31   62837.8480\n",
      "8       8 2018-09-30   86152.8880\n",
      "9       9 2018-10-31   77448.1312\n",
      "10     10 2018-11-30  117938.1550\n",
      "11     11 2018-12-31   83030.3888\n"
     ]
    }
   ],
   "source": [
    "# to make it as an index\n",
    "monthly_sales = monthly_sales.reset_index()\n",
    "print(monthly_sales)"
   ]
  },
  {
   "cell_type": "code",
   "execution_count": 120,
   "id": "f5828f08-f4c7-4b7d-8649-4e52d019338a",
   "metadata": {},
   "outputs": [
    {
     "name": "stdout",
     "output_type": "stream",
     "text": [
      "    index      Month  Total Sales\n",
      "0       0 2018-01-31   43476.4740\n",
      "1       1 2018-02-28   19920.9974\n",
      "2       2 2018-03-31   58863.4128\n",
      "3       3 2018-04-30   35541.9101\n",
      "4       4 2018-05-31   43825.9822\n",
      "5       5 2018-06-30   48190.7277\n",
      "6       6 2018-07-31   44825.1040\n",
      "7       7 2018-08-31   62837.8480\n",
      "8       8 2018-09-30   86152.8880\n",
      "9       9 2018-10-31   77448.1312\n",
      "10     10 2018-11-30  117938.1550\n",
      "11     11 2018-12-31   83030.3888\n"
     ]
    }
   ],
   "source": [
    "monthly_sales = monthly_sales.rename(columns={'Order Date':'Month','Sales':'Total Sales'})\n",
    "print(monthly_sales)"
   ]
  },
  {
   "cell_type": "code",
   "execution_count": 124,
   "id": "1f641165-1870-4763-b7ac-f09cca25f9a4",
   "metadata": {},
   "outputs": [
    {
     "data": {
      "image/png": "[encoded data removed]",
      "text/plain": [
       "<Figure size 640x480 with 1 Axes>"
      ]
     },
     "metadata": {},
     "output_type": "display_data"
    }
   ],
   "source": [
    "#plot a line graph\n",
    "plt.plot(monthly_sales['Month'],monthly_sales['Total Sales'], marker = 'o', linestyle ='--')\n",
    "plt.xlabel('Month')\n",
    "plt.ylabel('Total Sales')\n",
    "plt.title(\"Monthly Sales in year 2018\")\n",
    "plt.show()\n"
   ]
  },
  {
   "cell_type": "code",
   "execution_count": 1,
   "id": "8c08091a-fe12-4ee8-b7df-d4f5e62a2963",
   "metadata": {},
   "outputs": [
    {
     "name": "stdout",
     "output_type": "stream",
     "text": [
      "C:\\Users\\sunin\\Superstoreproject\n"
     ]
    }
   ],
   "source": [
    "import os\n",
    "print(os.getcwd())"
   ]
  },
  {
   "cell_type": "code",
   "execution_count": null,
   "id": "90513cab-57c7-4417-89fe-a8e896735f39",
   "metadata": {},
   "outputs": [],
   "source": []
  }
 ],
 "metadata": {
  "kernelspec": {
   "display_name": "Python 3 (ipykernel)",
   "language": "python",
   "name": "python3"
  },
  "language_info": {
   "codemirror_mode": {
    "name": "ipython",
    "version": 3
   },
   "file_extension": ".py",
   "mimetype": "text/x-python",
   "name": "python",
   "nbconvert_exporter": "python",
   "pygments_lexer": "ipython3",
   "version": "3.12.7"
  }
 },
 "nbformat": 4,
 "nbformat_minor": 5
}
